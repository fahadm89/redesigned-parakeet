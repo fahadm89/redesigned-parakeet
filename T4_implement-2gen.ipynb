{
 "cells": [
  {
   "cell_type": "code",
   "execution_count": 1,
   "metadata": {},
   "outputs": [],
   "source": [
    "import numpy as np\n",
    "from pyomo.environ import *"
   ]
  },
  {
   "cell_type": "markdown",
   "metadata": {},
   "source": [
    "# Step 1 - DC load flow using PTDF in Python"
   ]
  },
  {
   "cell_type": "code",
   "execution_count": 2,
   "metadata": {
    "scrolled": true
   },
   "outputs": [],
   "source": [
    "# from IPython.display import Image\n",
    "# Image(filename=\"C:/Users/fmansoor/Downloads/4bus/4bus_grid.png\",width=500,height=500)"
   ]
  },
  {
   "cell_type": "code",
   "execution_count": 3,
   "metadata": {},
   "outputs": [
    {
     "name": "stdout",
     "output_type": "stream",
     "text": [
      "[ 20 180 200 240 -20]\n"
     ]
    }
   ],
   "source": [
    "f_old = np.array([20,180,200,240,-20])\n",
    "print(f_old)"
   ]
  },
  {
   "cell_type": "code",
   "execution_count": 1,
   "metadata": {
    "collapsed": true
   },
   "outputs": [
    {
     "ename": "NameError",
     "evalue": "name 'np' is not defined",
     "output_type": "error",
     "traceback": [
      "\u001b[1;31m---------------------------------------------------------------------------\u001b[0m",
      "\u001b[1;31mNameError\u001b[0m                                 Traceback (most recent call last)",
      "\u001b[1;32m<ipython-input-1-b7da0753cb31>\u001b[0m in \u001b[0;36m<module>\u001b[1;34m\u001b[0m\n\u001b[1;32m----> 1\u001b[1;33m \u001b[0mM\u001b[0m\u001b[1;33m=\u001b[0m\u001b[0mnp\u001b[0m\u001b[1;33m.\u001b[0m\u001b[0marray\u001b[0m\u001b[1;33m(\u001b[0m\u001b[1;33m[\u001b[0m\u001b[1;33m[\u001b[0m\u001b[1;36m0.4\u001b[0m\u001b[1;33m,\u001b[0m\u001b[1;36m0.2\u001b[0m\u001b[1;33m,\u001b[0m\u001b[1;36m0.3\u001b[0m\u001b[1;33m,\u001b[0m\u001b[1;36m0.35\u001b[0m\u001b[1;33m]\u001b[0m\u001b[1;33m,\u001b[0m\u001b[1;33m[\u001b[0m\u001b[1;36m0.6\u001b[0m\u001b[1;33m,\u001b[0m\u001b[1;36m0.4\u001b[0m\u001b[1;33m,\u001b[0m\u001b[1;33m-\u001b[0m\u001b[1;36m0.3\u001b[0m\u001b[1;33m,\u001b[0m\u001b[1;33m-\u001b[0m\u001b[1;36m0.35\u001b[0m\u001b[1;33m]\u001b[0m\u001b[1;33m,\u001b[0m\u001b[1;33m[\u001b[0m\u001b[1;33m-\u001b[0m\u001b[1;36m0.2\u001b[0m\u001b[1;33m,\u001b[0m\u001b[1;33m-\u001b[0m\u001b[1;36m0.6\u001b[0m\u001b[1;33m,\u001b[0m\u001b[1;33m-\u001b[0m\u001b[1;36m0.4\u001b[0m\u001b[1;33m,\u001b[0m\u001b[1;33m-\u001b[0m\u001b[1;36m0.3\u001b[0m\u001b[1;33m]\u001b[0m\u001b[1;33m,\u001b[0m\u001b[1;33m[\u001b[0m\u001b[1;33m-\u001b[0m\u001b[1;36m0.4\u001b[0m\u001b[1;33m,\u001b[0m\u001b[1;33m-\u001b[0m\u001b[1;36m0.2\u001b[0m\u001b[1;33m,\u001b[0m\u001b[1;33m-\u001b[0m\u001b[1;36m0.3\u001b[0m\u001b[1;33m,\u001b[0m\u001b[1;33m-\u001b[0m\u001b[1;36m0.35\u001b[0m\u001b[1;33m]\u001b[0m\u001b[1;33m,\u001b[0m\u001b[1;33m[\u001b[0m\u001b[1;33m-\u001b[0m\u001b[1;36m0.2\u001b[0m\u001b[1;33m,\u001b[0m\u001b[1;36m0.4\u001b[0m\u001b[1;33m,\u001b[0m\u001b[1;36m0.6\u001b[0m\u001b[1;33m,\u001b[0m\u001b[1;33m-\u001b[0m\u001b[1;36m0.3\u001b[0m\u001b[1;33m]\u001b[0m\u001b[1;33m]\u001b[0m\u001b[1;33m)\u001b[0m\u001b[1;33m\u001b[0m\u001b[1;33m\u001b[0m\u001b[0m\n\u001b[0m\u001b[0;32m      2\u001b[0m \u001b[0mprint\u001b[0m\u001b[1;33m(\u001b[0m\u001b[0mM\u001b[0m\u001b[1;33m)\u001b[0m\u001b[1;33m\u001b[0m\u001b[1;33m\u001b[0m\u001b[0m\n",
      "\u001b[1;31mNameError\u001b[0m: name 'np' is not defined"
     ]
    }
   ],
   "source": [
    "M=np.array([[0.4,0.2,0.3,0.35],[0.6,0.4,-0.3,-0.35],[-0.2,-0.6,-0.4,-0.3],[-0.4,-0.2,-0.3,-0.35],[-0.2,0.4,0.6,-0.3]])\n",
    "print(M)"
   ]
  },
  {
   "cell_type": "code",
   "execution_count": 37,
   "metadata": {},
   "outputs": [
    {
     "data": {
      "text/plain": [
       "array([[ 0.4 ,  0.  ,  0.3 ,  0.35],\n",
       "       [ 0.6 ,  0.  , -0.3 , -0.35],\n",
       "       [-0.2 ,  0.  , -0.4 , -0.3 ],\n",
       "       [-0.4 ,  0.  , -0.3 , -0.35],\n",
       "       [-0.2 ,  0.  ,  0.6 , -0.3 ]])"
      ]
     },
     "execution_count": 37,
     "metadata": {},
     "output_type": "execute_result"
    }
   ],
   "source": [
    "M[:,:2]"
   ]
  },
  {
   "cell_type": "code",
   "execution_count": 38,
   "metadata": {},
   "outputs": [
    {
     "name": "stdout",
     "output_type": "stream",
     "text": [
      "[-37.5 -62.5   0.    0. ]\n"
     ]
    }
   ],
   "source": [
    "dP = np.array([-37.5,-62.5])\n",
    "print(dP)"
   ]
  },
  {
   "cell_type": "code",
   "execution_count": 39,
   "metadata": {},
   "outputs": [
    {
     "name": "stdout",
     "output_type": "stream",
     "text": [
      "[[-15.   -0.    0.    0. ]\n",
      " [-22.5  -0.   -0.   -0. ]\n",
      " [  7.5  -0.   -0.   -0. ]\n",
      " [ 15.   -0.   -0.   -0. ]\n",
      " [  7.5  -0.    0.   -0. ]]\n"
     ]
    }
   ],
   "source": [
    "df=M[:,:2]*dP\n",
    "print(df)"
   ]
  },
  {
   "cell_type": "code",
   "execution_count": 40,
   "metadata": {},
   "outputs": [
    {
     "data": {
      "text/plain": [
       "array([-15. , -22.5,   7.5,  15. ,   7.5])"
      ]
     },
     "execution_count": 40,
     "metadata": {},
     "output_type": "execute_result"
    }
   ],
   "source": [
    "(M[:,:2]*dP).sum(axis=1)"
   ]
  },
  {
   "cell_type": "code",
   "execution_count": 41,
   "metadata": {},
   "outputs": [
    {
     "name": "stdout",
     "output_type": "stream",
     "text": [
      "[  5.  157.5 207.5 255.  -12.5]\n"
     ]
    }
   ],
   "source": [
    "f_new = (M[:,:2]*dP).sum(axis=1) + f_old\n",
    "print(f_new)"
   ]
  },
  {
   "cell_type": "markdown",
   "metadata": {},
   "source": [
    "# Step 2 - Optimization with Python"
   ]
  },
  {
   "cell_type": "code",
   "execution_count": 10,
   "metadata": {},
   "outputs": [],
   "source": [
    "model = ConcreteModel()"
   ]
  },
  {
   "cell_type": "code",
   "execution_count": 11,
   "metadata": {},
   "outputs": [],
   "source": [
    "c = np.array([100,100]) #cost of generation\n",
    "P_old = np.array([50,400]) #old generation at generation buses\n",
    "Load = np.array([650,350]) #load \n",
    "P_max = np.array([1000,1000]) #max. generation at bus\n",
    "f_max = np.array([300,300,300,270,300]) #line thermal limit\n",
    "f_old = np.array([20,180,200,240,-20]) #base line flows"
   ]
  },
  {
   "cell_type": "code",
   "execution_count": 13,
   "metadata": {},
   "outputs": [],
   "source": [
    "# model.del_component(model.load_const)"
   ]
  },
  {
   "cell_type": "code",
   "execution_count": 14,
   "metadata": {},
   "outputs": [
    {
     "name": "stdout",
     "output_type": "stream",
     "text": [
      "range(0, 2)\n"
     ]
    }
   ],
   "source": [
    "index = range(2)\n",
    "print(index)"
   ]
  },
  {
   "cell_type": "code",
   "execution_count": 15,
   "metadata": {},
   "outputs": [],
   "source": [
    "# def P_old1(model,i):\n",
    "#     return P_old[i]\n",
    "# model.P_old1 = Param(index,initialize=P_old1)"
   ]
  },
  {
   "cell_type": "code",
   "execution_count": 16,
   "metadata": {},
   "outputs": [],
   "source": [
    "model.P_new = Var(index,initialize=0) #new generation at generation bus"
   ]
  },
  {
   "cell_type": "code",
   "execution_count": 17,
   "metadata": {},
   "outputs": [
    {
     "name": "stdout",
     "output_type": "stream",
     "text": [
      "100*(P_new[0] + 50) + 100*(P_new[1] + 400)\n"
     ]
    }
   ],
   "source": [
    "def obj_rule(model):\n",
    "    obj = sum(c[i]*(model.P_new[i]+P_old[i]) for i in index)\n",
    "    print(obj)\n",
    "    return obj\n",
    "model.z = Objective(rule=obj_rule,sense=minimize)"
   ]
  },
  {
   "cell_type": "code",
   "execution_count": 18,
   "metadata": {},
   "outputs": [
    {
     "name": "stdout",
     "output_type": "stream",
     "text": [
      "P_new[0] + 50  <=  1000.0\n",
      "P_new[1] + 400  <=  1000.0\n"
     ]
    }
   ],
   "source": [
    "def max_gen_rule(model,i):\n",
    "    max_gen = model.P_new[i] + P_old[i] <= P_max[i]\n",
    "    print(max_gen)\n",
    "    return max_gen\n",
    "model.Gen_const = Constraint(index,rule=max_gen_rule)"
   ]
  },
  {
   "cell_type": "code",
   "execution_count": 19,
   "metadata": {},
   "outputs": [
    {
     "name": "stdout",
     "output_type": "stream",
     "text": [
      "P_new[0] + P_new[1] + 450  ==  1000.0\n"
     ]
    }
   ],
   "source": [
    "def load_rule(model):\n",
    "    ld = sum(model.P_new[i] for i in index)+sum(P_old) == sum(Load)\n",
    "    print(ld)\n",
    "    return ld\n",
    "model.load_const = Constraint(rule=load_rule)"
   ]
  },
  {
   "cell_type": "code",
   "execution_count": 20,
   "metadata": {},
   "outputs": [],
   "source": [
    "# for n in index:\n",
    "#     dP[n] = model.P_old1[n] - model.P_new[n]\n",
    "# print(dP)"
   ]
  },
  {
   "cell_type": "code",
   "execution_count": 21,
   "metadata": {},
   "outputs": [],
   "source": [
    "k=range(5)"
   ]
  },
  {
   "cell_type": "code",
   "execution_count": 22,
   "metadata": {},
   "outputs": [
    {
     "name": "stdout",
     "output_type": "stream",
     "text": [
      "0.4*(50 - P_new[0]) + 10.0\n",
      "0.6*(50 - P_new[0]) + 90.0\n",
      "-0.2*(50 - P_new[0]) + 100.0\n",
      "-0.4*(50 - P_new[0]) + 120.0\n",
      "-0.2*(50 - P_new[0]) - 10.0\n",
      "0.2*(400 - P_new[1]) + 10.0\n",
      "0.4*(400 - P_new[1]) + 90.0\n",
      "-0.6*(400 - P_new[1]) + 100.0\n",
      "-0.2*(400 - P_new[1]) + 120.0\n",
      "0.4*(400 - P_new[1]) - 10.0\n"
     ]
    }
   ],
   "source": [
    "def line_rule(model,i,j):\n",
    "    val = (M[j,i]*(P_old[i] - model.P_new[i])) + f_old[j]/len(index)\n",
    "    print(val)\n",
    "    return (-f_max[j]/len(index), val, f_max[j]/len(index))\n",
    "model.Line_const = Constraint(index, k,rule=line_rule)"
   ]
  },
  {
   "cell_type": "code",
   "execution_count": 23,
   "metadata": {
    "scrolled": true
   },
   "outputs": [],
   "source": [
    "# def line_rule(model,i,j):\n",
    "#     val = (model.val1) + f_old[j]\n",
    "#     print(val)\n",
    "#     return (-f_max[j], val, f_max[j])\n",
    "# model.Line_const = Constraint(index, k,rule=line_rule)"
   ]
  },
  {
   "cell_type": "code",
   "execution_count": 24,
   "metadata": {},
   "outputs": [],
   "source": [
    "# model.val1=Var(index,initialize=0,within=Any)"
   ]
  },
  {
   "cell_type": "code",
   "execution_count": 25,
   "metadata": {},
   "outputs": [],
   "source": [
    "# for n in index:\n",
    "#     model.val1[n] = (M[:,n]*(P_old[n] - model.P_new[n]))"
   ]
  },
  {
   "cell_type": "code",
   "execution_count": 26,
   "metadata": {},
   "outputs": [],
   "source": [
    "# model.val1"
   ]
  },
  {
   "cell_type": "code",
   "execution_count": 27,
   "metadata": {},
   "outputs": [],
   "source": [
    "# model.del_component(model.Li)"
   ]
  },
  {
   "cell_type": "code",
   "execution_count": 28,
   "metadata": {},
   "outputs": [
    {
     "name": "stdout",
     "output_type": "stream",
     "text": [
      "# ==========================================================\n",
      "# = Solver Results                                         =\n",
      "# ==========================================================\n",
      "# ----------------------------------------------------------\n",
      "#   Problem Information\n",
      "# ----------------------------------------------------------\n",
      "Problem: \n",
      "- Name: unknown\n",
      "  Lower bound: 100000.0\n",
      "  Upper bound: 100000.0\n",
      "  Number of objectives: 1\n",
      "  Number of constraints: 24\n",
      "  Number of variables: 3\n",
      "  Number of nonzeros: 25\n",
      "  Sense: minimize\n",
      "# ----------------------------------------------------------\n",
      "#   Solver Information\n",
      "# ----------------------------------------------------------\n",
      "Solver: \n",
      "- Status: ok\n",
      "  Termination condition: optimal\n",
      "  Statistics: \n",
      "    Branch and bound: \n",
      "      Number of bounded subproblems: 0\n",
      "      Number of created subproblems: 0\n",
      "  Error rc: 0\n",
      "  Time: 0.06897091865539551\n",
      "# ----------------------------------------------------------\n",
      "#   Solution Information\n",
      "# ----------------------------------------------------------\n",
      "Solution: \n",
      "- number of solutions: 0\n",
      "  number of solutions displayed: 0\n"
     ]
    }
   ],
   "source": [
    "SolverFactory('glpk').solve(model).write()"
   ]
  },
  {
   "cell_type": "code",
   "execution_count": 29,
   "metadata": {},
   "outputs": [
    {
     "name": "stdout",
     "output_type": "stream",
     "text": [
      "87.5\n",
      "462.5\n"
     ]
    }
   ],
   "source": [
    "print(model.P_new[0]())\n",
    "print(model.P_new[1]())"
   ]
  },
  {
   "cell_type": "code",
   "execution_count": 30,
   "metadata": {},
   "outputs": [
    {
     "name": "stdout",
     "output_type": "stream",
     "text": [
      "[ -7.5 132.5 245.  267.5 -37.5]\n"
     ]
    }
   ],
   "source": [
    "print((M[:,0]*(P_old[0] - model.P_new[0]())) + (M[:,1]*(P_old[1] - model.P_new[1]())) + f_old)"
   ]
  },
  {
   "cell_type": "code",
   "execution_count": 31,
   "metadata": {},
   "outputs": [
    {
     "data": {
      "text/plain": [
       "array([ 20, 180, 200, 240, -20])"
      ]
     },
     "execution_count": 31,
     "metadata": {},
     "output_type": "execute_result"
    }
   ],
   "source": [
    "f_old"
   ]
  }
 ],
 "metadata": {
  "kernelspec": {
   "display_name": "Python 3",
   "language": "python",
   "name": "python3"
  },
  "language_info": {
   "codemirror_mode": {
    "name": "ipython",
    "version": 3
   },
   "file_extension": ".py",
   "mimetype": "text/x-python",
   "name": "python",
   "nbconvert_exporter": "python",
   "pygments_lexer": "ipython3",
   "version": "3.7.6"
  }
 },
 "nbformat": 4,
 "nbformat_minor": 2
}

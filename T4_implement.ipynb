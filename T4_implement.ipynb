{
 "cells": [
  {
   "cell_type": "code",
   "execution_count": 2,
   "metadata": {},
   "outputs": [],
   "source": [
    "import numpy as np\n",
    "from pyomo.environ import *"
   ]
  },
  {
   "cell_type": "markdown",
   "metadata": {},
   "source": [
    "# Step 1 - DC load flow using PTDF in Python"
   ]
  },
  {
   "cell_type": "code",
   "execution_count": 3,
   "metadata": {
    "scrolled": true
   },
   "outputs": [
    {
     "data": {
      "image/png": "[encoded data removed]",
      "text/plain": [
       "<IPython.core.display.Image object>"
      ]
     },
     "execution_count": 3,
     "metadata": {
      "image/png": {
       "height": 500,
       "width": 500
      }
     },
     "output_type": "execute_result"
    }
   ],
   "source": [
    "from IPython.display import Image\n",
    "Image(filename=\"C:/Users/fmansoor/Downloads/4bus/4bus_grid.png\",width=500,height=500)"
   ]
  },
  {
   "cell_type": "code",
   "execution_count": 4,
   "metadata": {
    "scrolled": true
   },
   "outputs": [
    {
     "name": "stdout",
     "output_type": "stream",
     "text": [
      "[[ 0.4   0.    0.3   0.35]\n",
      " [ 0.6   0.   -0.3  -0.35]\n",
      " [-0.2   0.   -0.4  -0.3 ]\n",
      " [-0.4   0.   -0.3  -0.35]\n",
      " [-0.2   0.    0.6  -0.3 ]]\n"
     ]
    }
   ],
   "source": [
    "M=np.array([[0.4,0,0.3,0.35],[0.6,0,-0.3,-0.35],[-0.2,0,-0.4,-0.3],[-0.4,0,-0.3,-0.35]\n",
    "            ,[-0.2,0,0.6,-0.3]])\n",
    "print(M)"
   ]
  },
  {
   "cell_type": "code",
   "execution_count": 5,
   "metadata": {},
   "outputs": [
    {
     "name": "stdout",
     "output_type": "stream",
     "text": [
      "[ 20 180 200 240 -20]\n"
     ]
    }
   ],
   "source": [
    "f_old = np.array([20,180,200,240,-20])\n",
    "print(f_old)"
   ]
  },
  {
   "cell_type": "code",
   "execution_count": 6,
   "metadata": {},
   "outputs": [
    {
     "name": "stdout",
     "output_type": "stream",
     "text": [
      "[-50   0   0  30]\n"
     ]
    }
   ],
   "source": [
    "dP = np.array([-50,0,0,30])\n",
    "print(dP)"
   ]
  },
  {
   "cell_type": "code",
   "execution_count": 7,
   "metadata": {},
   "outputs": [
    {
     "name": "stdout",
     "output_type": "stream",
     "text": [
      "[[-20.    0.    0.   10.5]\n",
      " [-30.    0.   -0.  -10.5]\n",
      " [ 10.    0.   -0.   -9. ]\n",
      " [ 20.    0.   -0.  -10.5]\n",
      " [ 10.    0.    0.   -9. ]]\n"
     ]
    }
   ],
   "source": [
    "df=M*dP\n",
    "print(df)"
   ]
  },
  {
   "cell_type": "code",
   "execution_count": 48,
   "metadata": {},
   "outputs": [
    {
     "name": "stdout",
     "output_type": "stream",
     "text": [
      "[ 10.5 139.5 201.  249.5 -19. ]\n"
     ]
    }
   ],
   "source": [
    "f_new = (M*dP).sum(axis=1) + f_old\n",
    "print(f_new)"
   ]
  },
  {
   "cell_type": "markdown",
   "metadata": {},
   "source": [
    "# Step 2 - Optimization with Python"
   ]
  },
  {
   "cell_type": "code",
   "execution_count": 9,
   "metadata": {},
   "outputs": [],
   "source": [
    "model = ConcreteModel()"
   ]
  },
  {
   "cell_type": "code",
   "execution_count": 12,
   "metadata": {},
   "outputs": [],
   "source": [
    "c = np.array([100,100]) #cost of generation\n",
    "P_old = np.array([200,400]) #old generation at generation buses\n",
    "Load = np.array([380,220]) #load \n",
    "P_max = np.array([500,500]) #max. generation at bus\n",
    "f_max = np.array([250,250,250,250,250]) #line thermal limit"
   ]
  },
  {
   "cell_type": "code",
   "execution_count": 14,
   "metadata": {},
   "outputs": [],
   "source": [
    "model.P_new = Var(index) #new generation at generation bus"
   ]
  },
  {
   "cell_type": "code",
   "execution_count": 13,
   "metadata": {},
   "outputs": [
    {
     "name": "stdout",
     "output_type": "stream",
     "text": [
      "range(0, 2)\n"
     ]
    }
   ],
   "source": [
    "index = range(2)\n",
    "print(index)"
   ]
  },
  {
   "cell_type": "code",
   "execution_count": 18,
   "metadata": {},
   "outputs": [],
   "source": [
    "P = model.P_new + P_old #total generation after optimization"
   ]
  },
  {
   "cell_type": "code",
   "execution_count": 21,
   "metadata": {},
   "outputs": [],
   "source": [
    "def obj_rule(model):\n",
    "    return sum(c[i]*P[i] for i in index)\n",
    "model.z = Objective(rule=obj_rule,sense=minimize)"
   ]
  },
  {
   "cell_type": "code",
   "execution_count": 33,
   "metadata": {},
   "outputs": [],
   "source": [
    "def max_gen_rule(model,i):\n",
    "    return model.P_new[i] + P_old[i] <= P_max[i]\n",
    "model.Gen_const1 = Constraint(index,rule=max_gen_rule)"
   ]
  },
  {
   "cell_type": "code",
   "execution_count": 45,
   "metadata": {},
   "outputs": [],
   "source": [
    "def load_rule(model):\n",
    "    return sum(model.P_new[i] for i in index)+sum(P_old) == sum(Load)\n",
    "model.load_const5 = Constraint(rule=load_rule)"
   ]
  },
  {
   "cell_type": "code",
   "execution_count": 52,
   "metadata": {},
   "outputs": [],
   "source": [
    "dP11 = P_old - model.P_new"
   ]
  },
  {
   "cell_type": "code",
   "execution_count": 55,
   "metadata": {},
   "outputs": [],
   "source": [
    "def line_rule(model,i):\n",
    "    return (-f_max[i], (M*dP11[i]).sum(axis=1) + f_old ,f_max[i])\n",
    "model.Line_const1 = Constraint(index,rule=line_rule)"
   ]
  },
  {
   "cell_type": "code",
   "execution_count": 47,
   "metadata": {},
   "outputs": [
    {
     "data": {
      "text/plain": [
       "250"
      ]
     },
     "execution_count": 47,
     "metadata": {},
     "output_type": "execute_result"
    }
   ],
   "source": [
    "f_max[2]"
   ]
  }
 ],
 "metadata": {
  "kernelspec": {
   "display_name": "Python 3",
   "language": "python",
   "name": "python3"
  },
  "language_info": {
   "codemirror_mode": {
    "name": "ipython",
    "version": 3
   },
   "file_extension": ".py",
   "mimetype": "text/x-python",
   "name": "python",
   "nbconvert_exporter": "python",
   "pygments_lexer": "ipython3",
   "version": "3.6.5"
  }
 },
 "nbformat": 4,
 "nbformat_minor": 2
}
